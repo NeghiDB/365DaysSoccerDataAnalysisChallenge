{
 "cells": [
  {
   "cell_type": "code",
   "execution_count": null,
   "metadata": {},
   "outputs": [],
   "source": [
    "import pandas as pd\n",
    "df = pd.read_csv('EPL Regular Season Stats 2011-2023.csv', encoding='latin1', index_col=None)\n",
    "display(df)"
   ]
  },
  {
   "cell_type": "code",
   "execution_count": null,
   "metadata": {},
   "outputs": [],
   "source": [
    "# Get the number of rows and columns\n",
    "# Format df.shape(x,y)\n",
    "num_rows, num_cols = df.shape\n",
    "print(f\"The dataset has {num_rows} rows and {num_cols} columns.\")"
   ]
  },
  {
   "cell_type": "code",
   "execution_count": null,
   "metadata": {},
   "outputs": [],
   "source": [
    "# Get the data types of each column\n",
    "data_types = df.dtypes\n",
    "print(\"Data types:\")\n",
    "display(data_types)"
   ]
  },
  {
   "cell_type": "code",
   "execution_count": null,
   "metadata": {},
   "outputs": [],
   "source": [
    "# Check for missing values\n",
    "missing_values = df.isnull().sum()\n",
    "print(f\"Missing values:\\n{missing_values}\")"
   ]
  },
  {
   "cell_type": "code",
   "execution_count": null,
   "metadata": {},
   "outputs": [],
   "source": [
    "# Get a summary of the dataset\n",
    "summary = df.describe()\n",
    "print(f\"Summary:\\n{summary}\")"
   ]
  },
  {
   "cell_type": "code",
   "execution_count": null,
   "metadata": {},
   "outputs": [],
   "source": [
    "# Get unique values and their frequencies in categorical columns\n",
    "\"\"\" print(df['Rk'].value_counts())\n",
    "print(df['MP'].value_counts())\n",
    "print(df['W'].value_counts())\n",
    "print(df['D'].value_counts())\n",
    "print(df['L'].value_counts())\n",
    "print(df['GF'].value_counts())\n",
    "print(df['GA'].value_counts())\n",
    "print(df['GD'].value_counts())\n",
    "print(df['Pts'].value_counts())\n",
    "print(df['Pts/MP'].value_counts())\n",
    "print(df['xG'].value_counts())\n",
    "print(df['xGA'].value_counts())\n",
    "print(df['xGD'].value_counts())\n",
    "print(df['xGD/90'].value_counts()) \"\"\"\n",
    "# Get unique values and their frequencies in categorical columns\n",
    "print(df['W'].value_counts())"
   ]
  },
  {
   "cell_type": "code",
   "execution_count": null,
   "metadata": {},
   "outputs": [],
   "source": [
    "# Visualize key patterns using histograms, box plots, or bar charts\n",
    "df['W'].value_counts().plot(kind='bar')"
   ]
  },
  {
   "cell_type": "code",
   "execution_count": null,
   "metadata": {},
   "outputs": [],
   "source": [
    "# Fill missing values with a specified value\n",
    "df.fillna(value=0, inplace=True)\n",
    "\n",
    "# Print the resulting DataFrame\n",
    "print(df)"
   ]
  },
  {
   "cell_type": "code",
   "execution_count": null,
   "metadata": {},
   "outputs": [],
   "source": [
    "import pandas as pd\n",
    "df2 = pd.read_csv('EPL Regular Season Stats 2011-2023 NEW.csv', encoding='latin1', index_col=None)\n",
    "display(df2)"
   ]
  },
  {
   "cell_type": "code",
   "execution_count": null,
   "metadata": {},
   "outputs": [],
   "source": [
    "import pandas as pd\n",
    "import matplotlib.pyplot as plt\n",
    "\n",
    "# Read the CSV file\n",
    "df = pd.read_csv('EPL Regular Season Stats 2011-2023 NEW.csv', encoding='latin1', index_col=None)\n",
    "\n",
    "# Select the columns to use for the bar chart\n",
    "labels = df['Squad']\n",
    "sizes = df['GF']\n",
    "\n",
    "# Create the bar chart\n",
    "plt.bar(labels, sizes)\n",
    "\n",
    "# Rotate the x-axis tick labels\n",
    "plt.xticks(rotation=90)\n",
    "\n",
    "# Add labels and title\n",
    "plt.xlabel('Team Name')\n",
    "plt.ylabel('Goals Scored')\n",
    "plt.title('Team Goal Scored 2011/2012 to 2022/2023 Season')\n",
    "\n",
    "plt.show()"
   ]
  },
  {
   "cell_type": "code",
   "execution_count": null,
   "metadata": {},
   "outputs": [],
   "source": [
    "import pandas as pd\n",
    "import matplotlib.pyplot as plt\n",
    "\n",
    "# Read the CSV file\n",
    "df = pd.read_csv('EPL Regular Season Stats 2011-2023 NEW.csv', encoding='latin1', index_col=None)\n",
    "\n",
    "# Select the columns to use for the bar chart\n",
    "labels = df['Squad']\n",
    "sizes = df['GA']\n",
    "\n",
    "# Create the bar chart\n",
    "plt.bar(labels, sizes)\n",
    "\n",
    "# Rotate the x-axis tick labels\n",
    "plt.xticks(rotation=90)\n",
    "\n",
    "# Add labels and title\n",
    "plt.xlabel('Team Name')\n",
    "plt.ylabel('Goals Conceded')\n",
    "plt.title('Team Goal Conceded 2011/2012 to 2022/2023 Season')\n",
    "\n",
    "plt.show()"
   ]
  },
  {
   "cell_type": "code",
   "execution_count": null,
   "metadata": {},
   "outputs": [],
   "source": [
    "import pandas as pd\n",
    "import matplotlib.pyplot as plt\n",
    "\n",
    "# Read the CSV file\n",
    "df = pd.read_csv('EPL Regular Season Stats 2011-2023 NEW.csv', encoding='latin1', index_col=None)\n",
    "\n",
    "# Select the columns to use for the bar chart\n",
    "labels = df['Squad']\n",
    "sizes = df['W']\n",
    "\n",
    "# Create the bar chart\n",
    "plt.bar(labels, sizes)\n",
    "\n",
    "# Rotate the x-axis tick labels\n",
    "plt.xticks(rotation=90)\n",
    "\n",
    "# Add labels and title\n",
    "plt.xlabel('Team Name')\n",
    "plt.ylabel('Wins')\n",
    "plt.title('Team Wins 2011/2012 to 2022/2023 Season')\n",
    "\n",
    "plt.show()"
   ]
  },
  {
   "cell_type": "code",
   "execution_count": null,
   "metadata": {},
   "outputs": [],
   "source": [
    "import pandas as pd\n",
    "import matplotlib.pyplot as plt\n",
    "\n",
    "# Read the CSV file\n",
    "df = pd.read_csv('EPL Regular Season Stats 2011-2023 NEW.csv', encoding='latin1', index_col=None)\n",
    "\n",
    "# Select the columns to use for the bar chart\n",
    "labels = df['Squad']\n",
    "sizes = df['D']\n",
    "\n",
    "# Create the bar chart\n",
    "plt.bar(labels, sizes)\n",
    "\n",
    "# Rotate the x-axis tick labels\n",
    "plt.xticks(rotation=90)\n",
    "\n",
    "# Add labels and title\n",
    "plt.xlabel('Team Name')\n",
    "plt.ylabel('Draw')\n",
    "plt.title('Team Draws in 2011/2012 to 2022/2023 Season')\n",
    "\n",
    "plt.show()"
   ]
  },
  {
   "cell_type": "code",
   "execution_count": null,
   "metadata": {},
   "outputs": [],
   "source": [
    "import pandas as pd\n",
    "import matplotlib.pyplot as plt\n",
    "\n",
    "# Read the CSV file\n",
    "df = pd.read_csv('EPL Regular Season Stats 2011-2023 NEW.csv', encoding='latin1', index_col=None)\n",
    "\n",
    "# Select the columns to use for the bar chart\n",
    "labels = df['Squad']\n",
    "sizes = df['L']\n",
    "\n",
    "# Create the bar chart\n",
    "plt.bar(labels, sizes)\n",
    "\n",
    "# Rotate the x-axis tick labels\n",
    "plt.xticks(rotation=90)\n",
    "\n",
    "# Add labels and title\n",
    "plt.xlabel('Team Name')\n",
    "plt.ylabel('Loss')\n",
    "plt.title('Team Losses of 2011/2012 to 2022/2023 Season')\n",
    "\n",
    "plt.show()"
   ]
  },
  {
   "cell_type": "code",
   "execution_count": null,
   "metadata": {},
   "outputs": [],
   "source": [
    "import pandas as pd\n",
    "\n",
    "df = pd.read_csv('EPL Regular Season Stats 2011-2023 NEW.csv', encoding='latin1', index_col=None)\n",
    "\n",
    "columns_to_merge = ['Squad', 'Year']\n",
    "\n",
    "df['Squad'] = df[columns_to_merge].astype(str).apply(' '.join, axis=1)\n",
    "\n",
    "column_to_drop = 'Year'\n",
    "\n",
    "df = df.drop(column_to_drop, axis=1)\n",
    "\n",
    "df.to_csv('EPL Regular Season Stats 2011-2023 NEWEST.csv')\n",
    "\n",
    "display(df)"
   ]
  },
  {
   "cell_type": "code",
   "execution_count": null,
   "metadata": {},
   "outputs": [],
   "source": [
    "import pandas as pd\n",
    "\n",
    "df = pd.read_csv('EPL Regular Season Stats 2011-2023 NEWEST.csv', encoding='latin1')\n",
    "\n",
    "# Remove the index column from the display\n",
    "#pd.set_option('display.show_index', False)\n",
    "\n",
    "# Remove column with name unnamed\n",
    "df = df.loc[:, ~df.columns.str.contains('^Unnamed')]\n",
    "\n",
    "# Display the dataframe\n",
    "display(df)\n",
    "\n",
    "# Restore the default behavior\n",
    "#pd.set_option('display.show_index', True)"
   ]
  },
  {
   "cell_type": "code",
   "execution_count": null,
   "metadata": {},
   "outputs": [],
   "source": [
    "import pandas as pd\n",
    "\n",
    "df = pd.read_csv('EPL Regular Season Stats 2011-2023 NEWEST.csv', encoding='latin1', index_col=None)\n",
    "\n",
    "# Remove column with name unnamed\n",
    "df = df.loc[:, ~df.columns.str.contains('^Unnamed')]\n",
    "\n",
    "column_to_drop = 'Notes'\n",
    "\n",
    "df = df.drop(column_to_drop, axis=1)\n",
    "\n",
    "df.to_csv('EPL Regular Season Stats 2011-2023 NEWEST.csv')\n",
    "\n",
    "display(df)"
   ]
  },
  {
   "cell_type": "markdown",
   "metadata": {},
   "source": [
    "Using python to \"Conduct initial descriptive analysis on the dataset, including measures like mean, median, mode, standard deviation, and range for key variables.\""
   ]
  },
  {
   "cell_type": "code",
   "execution_count": 8,
   "metadata": {},
   "outputs": [
    {
     "name": "stdout",
     "output_type": "stream",
     "text": [
      "Goals Conceded\n",
      "Mean: 0.00\n",
      "Median: -6.50\n",
      "Mode: -16\n",
      "Standard Deviation: 27.70\n",
      "Range: 140.00\n"
     ]
    }
   ],
   "source": [
    "import pandas as pd\n",
    "\n",
    "# Load the CSV file into a pandas dataframe without setting the index\n",
    "df = pd.read_csv('EPL Regular Season Stats 2011-2023 NEWEST.csv', encoding='latin1', index_col=None)\n",
    "\n",
    "# Display the resulting DataFrame\n",
    "#display(df)\n",
    "\n",
    "print(\"Goals Conceded\")\n",
    "mean_value = df['GD'].mean()\n",
    "print(f\"Mean: {mean_value:.2f}\")\n",
    "median_value = df['GD'].median()\n",
    "print(f\"Median: {median_value:.2f}\")\n",
    "mode_value = df['GD'].mode().iloc[0]\n",
    "print(f\"Mode: {mode_value}\")\n",
    "std_value = df['GD'].std()\n",
    "print(f\"Standard Deviation: {std_value:.2f}\")\n",
    "min_value = df['GD'].min()\n",
    "max_value = df['GD'].max()\n",
    "range_value = max_value - min_value\n",
    "print(f\"Range: {range_value:.2f}\")\n",
    "\n"
   ]
  },
  {
   "cell_type": "markdown",
   "metadata": {},
   "source": [
    "Using python to \"extend the analysis by exploring additional descriptive statistics such as quartiles, skewness, and kurtosis to gain deeper insights into the data distribution\""
   ]
  },
  {
   "cell_type": "code",
   "execution_count": 9,
   "metadata": {},
   "outputs": [],
   "source": [
    "import pandas as pd\n",
    "\n",
    "# Read the data\n",
    "data = pd.read_csv('EPL Regular Season Stats 2011-2023 NEWEST.csv', encoding='latin1', index_col=None)\n"
   ]
  },
  {
   "cell_type": "code",
   "execution_count": 10,
   "metadata": {},
   "outputs": [
    {
     "name": "stdout",
     "output_type": "stream",
     "text": [
      "Skewness: 0.86\n"
     ]
    },
    {
     "data": {
      "image/png": "[encoded data removed]",
      "text/plain": [
       "<Figure size 800x600 with 1 Axes>"
      ]
     },
     "metadata": {},
     "output_type": "display_data"
    }
   ],
   "source": [
    "import matplotlib.pyplot as plt\n",
    "from scipy.stats import skew\n",
    "\n",
    "# Calculate skewness\n",
    "skewness = skew(data['GF'])\n",
    "print(f\"Skewness: {skewness:.2f}\")\n",
    "\n",
    "# Create a histogram\n",
    "plt.figure(figsize=(8, 6))\n",
    "plt.hist(data['GF'], bins=20, color='skyblue', edgecolor='black')\n",
    "plt.xlabel('Goal Scored (GF)')\n",
    "plt.ylabel('Frequency')\n",
    "plt.title('Distribution of Goal Scored in EPL')\n",
    "plt.grid(axis='y', linestyle='--', alpha=0.7)\n",
    "plt.show()\n"
   ]
  },
  {
   "cell_type": "code",
   "execution_count": 12,
   "metadata": {},
   "outputs": [
    {
     "name": "stdout",
     "output_type": "stream",
     "text": [
      "Kurtosis: 0.35\n"
     ]
    },
    {
     "data": {
      "image/png": "[encoded data removed]",
      "text/plain": [
       "<Figure size 800x600 with 1 Axes>"
      ]
     },
     "metadata": {},
     "output_type": "display_data"
    }
   ],
   "source": [
    "import matplotlib.pyplot as plt\n",
    "from scipy.stats import kurtosis\n",
    "\n",
    "kurt = kurtosis(data['GF'])\n",
    "print(f\"Kurtosis: {kurt:.2f}\")\n",
    "\n",
    "# Create a histogram\n",
    "plt.figure(figsize=(8, 6))\n",
    "plt.hist(data['GF'], bins=20, color='salmon', edgecolor='black')\n",
    "plt.xlabel('Goals For (GF)')\n",
    "plt.ylabel('Frequency')\n",
    "plt.title('Distribution of Goals For in EPL')\n",
    "plt.grid(axis='y', linestyle='--', alpha=0.7)\n",
    "plt.show()"
   ]
  }
 ],
 "metadata": {
  "kernelspec": {
   "display_name": "Python 3",
   "language": "python",
   "name": "python3"
  },
  "language_info": {
   "codemirror_mode": {
    "name": "ipython",
    "version": 3
   },
   "file_extension": ".py",
   "mimetype": "text/x-python",
   "name": "python",
   "nbconvert_exporter": "python",
   "pygments_lexer": "ipython3",
   "version": "3.10.7"
  }
 },
 "nbformat": 4,
 "nbformat_minor": 2
}
